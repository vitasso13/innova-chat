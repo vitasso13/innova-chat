{
 "cells": [
  {
   "cell_type": "code",
   "execution_count": 1,
   "metadata": {},
   "outputs": [
    {
     "name": "stdout",
     "output_type": "stream",
     "text": [
      "CSV file 'products_dataset.csv' has been created.\n"
     ]
    }
   ],
   "source": [
    "import pandas as pd\n",
    "\n",
    "# Define the list of products\n",
    "products = [\n",
    "    (1, 'InnovaCloud', 'Uma plataforma abrangente de computação em nuvem que oferece uma ampla gama de serviços, como servidores virtuais, armazenamento e bancos de dados, projetados para atender às demandas de aplicativos empresariais modernos.',\n",
    "     'Servidores virtuais escaláveis, Bancos de dados SQL e NoSQL gerenciados, Armazenamento de objetos seguro, Ferramentas de análise de dados integradas',\n",
    "     'Automatização de infraestrutura de TI, Hospedagem e gerenciamento de aplicativos web escaláveis, Armazenamento de dados e inteligência de negócios',\n",
    "     'Como criar um servidor virtual no InnovaCloud? Você pode criar um servidor virtual usando o painel do InnovaCloud, selecionando os recursos de computação e o sistema operacional desejados.'),\n",
    "    \n",
    "    (2, 'InnovaAI', 'Uma plataforma avançada de IA e aprendizado de máquina que permite às empresas construir, treinar e implantar modelos de aprendizado de máquina em escala.',\n",
    "     'Modelos de IA pré-construídos, Treinamento de modelos personalizados, Inferência em tempo real, Ferramentas de preparação e limpeza de dados',\n",
    "     'Análise preditiva, Processamento de linguagem natural, Aplicações de visão computacional',\n",
    "     'Q: Quais frameworks de aprendizado de máquina o InnovaAI suporta? A: O InnovaAI suporta TensorFlow, PyTorch e scikit-learn para construção e treinamento de modelos.'),\n",
    "    \n",
    "    (3, 'InnovaCRM', 'Um sistema de gerenciamento de relacionamento com o cliente que ajuda as empresas a gerenciar suas interações com clientes atuais e potenciais.',\n",
    "     'Gerenciamento de contatos, Rastreamento do pipeline de vendas, Automação de marketing, Sistema de suporte ao cliente',\n",
    "     'Centralização de dados de clientes, Automação de campanhas de marketing, Rastreamento de vendas e atividades de suporte ao cliente',\n",
    "     'Q: O InnovaCRM pode ser integrado ao meu sistema de email existente? A: Sim, o InnovaCRM pode ser integrado aos sistemas de email populares como Microsoft Outlook e Gmail.'),\n",
    "    \n",
    "    (4, 'InnovaSecure', 'Uma plataforma de cibersegurança que oferece soluções de segurança abrangentes para proteger as empresas contra ameaças cibernéticas.',\n",
    "     'Detecção e resposta a ameaças em tempo real, Sistema de prevenção de intrusões e firewall, Proteção de endpoint, Gestão de informações e eventos de segurança (SIEM)',\n",
    "     'Monitoramento e mitigação de ameaças de segurança, Proteção de dispositivos endpoint, Relatórios de conformidade e auditorias',\n",
    "     'Q: Como o InnovaSecure responde a ameaças detectadas? A: O InnovaSecure utiliza um sistema de resposta automatizado para isolar e mitigar ameaças detectadas em tempo real.'),\n",
    "    \n",
    "    (5, 'InnovaAnalytics', 'Uma poderosa plataforma de análise de dados que permite às empresas analisar grandes conjuntos de dados e obter insights acionáveis.',\n",
    "     'Ferramentas de visualização de dados, Análise avançada e aprendizado de máquina, Processamento de dados em tempo real, Painéis de business intelligence',\n",
    "     'Análise de dados de vendas e marketing, Monitoramento em tempo real de operações de negócios, Criação de relatórios analíticos personalizados',\n",
    "     'Q: O InnovaAnalytics pode lidar com fluxos de dados em tempo real? A: Sim, o InnovaAnalytics pode processar e analisar fluxos de dados em tempo real para obter insights imediatos.'),\n",
    "    \n",
    "    (6, 'InnovaERP', 'Um sistema de planejamento de recursos empresariais que integra e automatiza vários processos de negócios, como finanças, RH e gerenciamento da cadeia de suprimentos.',\n",
    "     'Gestão financeira, Gestão de recursos humanos, Rastreamento de inventário e cadeia de suprimentos, Gestão de projetos',\n",
    "     'Automatização de relatórios financeiros, Gestão de recursos humanos e folha de pagamento, Rastreamento de inventário e operações de cadeia de suprimentos',\n",
    "     'Q: Qual o nível de personalização do sistema InnovaERP? A: O InnovaERP é altamente personalizável e pode ser adaptado para atender às necessidades exclusivas do seu negócio.'),\n",
    "    \n",
    "    (7, 'InnovaDev', 'Um conjunto de ferramentas e serviços de desenvolvimento projetados para ajudar os desenvolvedores de software a colaborar, construir, testar e implantar aplicativos de forma eficiente.',\n",
    "     'Gestão de código-fonte, Integração e entrega contínua (CI/CD), Monitoramento e registro de aplicativos, Ambiente de desenvolvimento colaborativo',\n",
    "     'Gestão de projetos de desenvolvimento de software, Automação de teste e implantação de código, Monitoramento de desempenho de aplicativos',\n",
    "     'Q: O InnovaDev suporta integração com ferramentas de terceiros? A: Sim, o InnovaDev suporta integração com ferramentas de terceiros populares como GitHub, Jira e Jenkins.'),\n",
    "    \n",
    "    (8, 'InnovaCommerce', 'Uma plataforma de comércio eletrônico que permite às empresas criar e gerenciar lojas online, com processamento de pagamentos e gerenciamento de pedidos.',\n",
    "     'Modelos de vitrine personalizáveis, Gateways de pagamento integrados, Gerenciamento de inventário e pedidos, Ferramentas de marketing e SEO',\n",
    "     'Configuração de uma loja online, Gerenciamento de vendas e inventário online, Realização de campanhas de marketing e rastreamento de desempenho',\n",
    "     'Q: Posso usar meu próprio domínio com o InnovaCommerce? A: Sim, você pode usar seu próprio domínio personalizado com sua loja online InnovaCommerce.')\n",
    "]\n",
    "\n",
    "# Create a DataFrame\n",
    "columns = ['id', 'product_name', 'product_description', 'key_features', 'use_cases', 'faq']\n",
    "df = pd.DataFrame(products, columns=columns)\n",
    "\n",
    "# Save DataFrame to CSV file\n",
    "df.to_csv('products_dataset.csv', index=False)\n",
    "\n",
    "print(\"CSV file 'products_dataset.csv' has been created.\")"
   ]
  }
 ],
 "metadata": {
  "kernelspec": {
   "display_name": ".venv",
   "language": "python",
   "name": "python3"
  },
  "language_info": {
   "codemirror_mode": {
    "name": "ipython",
    "version": 3
   },
   "file_extension": ".py",
   "mimetype": "text/x-python",
   "name": "python",
   "nbconvert_exporter": "python",
   "pygments_lexer": "ipython3",
   "version": "3.11.6"
  }
 },
 "nbformat": 4,
 "nbformat_minor": 2
}
