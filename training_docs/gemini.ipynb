{
 "cells": [
  {
   "cell_type": "code",
   "execution_count": null,
   "metadata": {},
   "outputs": [],
   "source": [
    "pip install google-generativeai"
   ]
  },
  {
   "cell_type": "code",
   "execution_count": null,
   "metadata": {},
   "outputs": [],
   "source": [
    "pip install --upgrade -q google-api-python-client google-auth-httplib2 google-auth-oauthlib"
   ]
  },
  {
   "cell_type": "code",
   "execution_count": null,
   "metadata": {},
   "outputs": [],
   "source": [
    "import google.generativeai as genai\n",
    "from load_credentials import load_creds\n",
    "creds = load_creds()\n",
    "\n",
    "genai.configure(credentials=creds)\n",
    "\n",
    "for m in genai.list_models():\n",
    "  if 'generateContent' in m.supported_generation_methods:\n",
    "    print(m.name)\n",
    "    \n",
    "# Set up the model\n",
    "generation_config = {\n",
    "  \"temperature\": 1,\n",
    "  \"top_p\": 1,\n",
    "  \"top_k\": 0,\n",
    "  \"max_output_tokens\": 8192,\n",
    "}\n",
    "\n",
    "safety_settings = [\n",
    "  {\n",
    "    \"category\": \"HARM_CATEGORY_HARASSMENT\",\n",
    "    \"threshold\": \"BLOCK_ONLY_HIGH\"\n",
    "  },\n",
    "  {\n",
    "    \"category\": \"HARM_CATEGORY_HATE_SPEECH\",\n",
    "    \"threshold\": \"BLOCK_ONLY_HIGH\"\n",
    "  },\n",
    "  {\n",
    "    \"category\": \"HARM_CATEGORY_SEXUALLY_EXPLICIT\",\n",
    "    \"threshold\": \"BLOCK_ONLY_HIGH\"\n",
    "  },\n",
    "  {\n",
    "    \"category\": \"HARM_CATEGORY_DANGEROUS_CONTENT\",\n",
    "    \"threshold\": \"BLOCK_ONLY_HIGH\"\n",
    "  },\n",
    "]\n",
    "\n",
    "model = genai.GenerativeModel(model_name=\"tunedModels/listaprodutoschatbot-num9pku6ub7\",\n",
    "                              generation_config=generation_config,\n",
    "                              safety_settings=safety_settings)\n",
    "\n",
    "prompt_parts = [\n",
    "  \"Responder perguntas sobre os produtos da empresa InnovaTech\",\n",
    "  \"input:  Produtos inovatech\",\n",
    "  \"output: InnovaCRM, TaskMaster, SalesBoost, MarketGenius, FinanceWiz, HRFlow, InventoryGuard, SupportHero, DevOpsMaster, SocialSync, TechDocs, QualityCheck, Engage360, SecureVault, InnovAnalytics, CloudNavigator, InnovadataHub, WorkflowEngine, EventTracker, InnovPortal, PerformancePro, InnovaChat, InnovFlow, InnovVault, LearningNest, TimeKeeper, PayMaster, InnovSurvey, RiskRadar, InnovaSync,\",\n",
    "  \"input:  Que dia é hoje?\",\n",
    "  \"output: É dia de consultar os produtos InnovaTech\",\n",
    "  \"input:  Como está hoje?\",\n",
    "  \"output: Estou ótimo, melhor ainda com os produtos InnovaTech\",\n",
    "  \"input:  Como fazer um bolo?\",\n",
    "  \"output: Não sei te responder isso, mas posso responder questões sobre os produtos da InnovaTech\",\n",
    "]\n",
    "prompt_parts.append(f\"input: bom dia amigo\")\n",
    "\n",
    "response = model.generate_content(prompt_parts)\n",
    "print(response.text)\n"
   ]
  }
 ],
 "metadata": {
  "kernelspec": {
   "display_name": "Python 3",
   "language": "python",
   "name": "python3"
  },
  "language_info": {
   "codemirror_mode": {
    "name": "ipython",
    "version": 3
   },
   "file_extension": ".py",
   "mimetype": "text/x-python",
   "name": "python",
   "nbconvert_exporter": "python",
   "pygments_lexer": "ipython3",
   "version": "3.11.6"
  }
 },
 "nbformat": 4,
 "nbformat_minor": 2
}
